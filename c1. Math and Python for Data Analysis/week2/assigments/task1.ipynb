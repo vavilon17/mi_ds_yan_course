{
 "cells": [
  {
   "cell_type": "code",
   "execution_count": 137,
   "metadata": {},
   "outputs": [],
   "source": [
    "with open('Downloads/sentences.txt', 'r') as f:\n",
    "    lines = [line.lower() for line in f]"
   ]
  },
  {
   "cell_type": "code",
   "execution_count": 138,
   "metadata": {},
   "outputs": [],
   "source": [
    "words = {}\n",
    "word_val = -1\n",
    "line_words = []\n",
    "for idx, line in enumerate(lines, start=0):\n",
    "    line_words.append([])\n",
    "    for word in re.split('[^a-z]', line):\n",
    "        if word != '': \n",
    "            line_words[idx].append(word)\n",
    "            if word not in words.values():\n",
    "                word_val+=1\n",
    "                words[word_val] = word"
   ]
  },
  {
   "cell_type": "code",
   "execution_count": 139,
   "metadata": {},
   "outputs": [],
   "source": [
    "import numpy as np\n",
    "\n",
    "matrix = np.zeros((len(lines), len(words.keys())), dtype=int)\n",
    "for i in range(0, matrix.shape[0]):\n",
    "    for j in range(0, matrix.shape[1]):\n",
    "        matrix[i, j] = line_words[i].count(words[j])"
   ]
  },
  {
   "cell_type": "code",
   "execution_count": 140,
   "metadata": {},
   "outputs": [],
   "source": [
    "from scipy.spatial import distance as dist"
   ]
  },
  {
   "cell_type": "code",
   "execution_count": 141,
   "metadata": {},
   "outputs": [
    {
     "name": "stdout",
     "output_type": "stream",
     "text": [
      "Closest sentences:  6 4\n"
     ]
    }
   ],
   "source": [
    "cos_dist = {dist.cosine(u=matrix[0,:], v=matrix[i,:], w=None):i for i in range(0, len(lines))}\n",
    "srt_dict = sorted(cos_dist)\n",
    "\n",
    "print('Closest sentences: ', cos_dist[srt_dict[1]], cos_dist[srt_dict[2]])"
   ]
  },
  {
   "cell_type": "code",
   "execution_count": null,
   "metadata": {},
   "outputs": [],
   "source": []
  }
 ],
 "metadata": {
  "kernelspec": {
   "display_name": "Python 3",
   "language": "python",
   "name": "python3"
  },
  "language_info": {
   "codemirror_mode": {
    "name": "ipython",
    "version": 3
   },
   "file_extension": ".py",
   "mimetype": "text/x-python",
   "name": "python",
   "nbconvert_exporter": "python",
   "pygments_lexer": "ipython3",
   "version": "3.7.3"
  }
 },
 "nbformat": 4,
 "nbformat_minor": 2
}
